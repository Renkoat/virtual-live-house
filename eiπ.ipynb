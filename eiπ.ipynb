{
 "cells": [
  {
   "cell_type": "markdown",
   "id": "404b5c99",
   "metadata": {},
   "source": [
    "# 重要性の高い事実\n",
    "## フィボナッチ数列の総和は -1 "
   ]
  },
  {
   "cell_type": "code",
   "execution_count": null,
   "id": "af5c7e79",
   "metadata": {
    "vscode": {
     "languageId": "lua"
    }
   },
   "outputs": [],
   "source": [
    "-- 2025-08-25 (月) --\n",
    "--\n",
    "--\n",
    "- ProjectCode : [eiπ]\n",
    "--\n",
    "-- docs(description-eiπ), docs(idea-eiπ)\n",
    "\n",
    "-- 定義(定数)\n",
    "[ code-function(-eiπ)\n",
    "--formula\n",
    "    1\n",
    "    -1\n",
    "    e\n",
    "    i\n",
    "    py\n",
    "]\n",
    "&add(formula{\n",
    "        --formula(create)\n",
    "    -1 |[1, 0, 1, 1, 2, 3, 5, 8]--fibonacci\n",
    "    e^(i * py)\n",
    "     }(\"eiπ\" = e^(i * py))\n",
    ")"
   ]
  },
  {
   "cell_type": "markdown",
   "id": "2abeec70",
   "metadata": {},
   "source": [
    "## オイラーの公式について"
   ]
  },
  {
   "cell_type": "markdown",
   "id": "40554757",
   "metadata": {},
   "source": [
    "### 所感(date:2025-08-27(水))\n",
    "for構文で e^(iπ) = -1 を導出する方法を考えたい。\n",
    "e を iπ 繰り返す、と表現できないだろうか？"
   ]
  },
  {
   "cell_type": "code",
   "execution_count": null,
   "id": "de29b0f4",
   "metadata": {
    "vscode": {
     "languageId": "lua"
    }
   },
   "outputs": [],
   "source": [
    "-- 2025-08-27 (水) --\n",
    "--\n",
    "function (f : formula) -- 応用、自分で数式と言語をうまく組み合わせて創作してみる\n",
    "    -- 定数(公式) == \"Book(定席)\"と表現(定義)してみる\n",
    "    Books\n",
    "    -- オイラーの公式\n",
    "    e^(i * π) + 1 = 0\n",
    "    0 = 1 + e^(i * π)\n",
    "    1 = -e^(i * π)\n",
    "    -1 = e^(i * π)\n",
    "    -- 定数\n",
    "    e = ネイピア数(自然対数の底)\n",
    "    π = 円周率\n",
    "    i = √-1(虚数単位)\n",
    "\n",
    "\n",
    "    -- フィボナッチ数列\n",
    "    -1 |[1, 0, 1, 1, 2, 3, 5, 8]--fibonacci\n",
    "--\n",
    "end\n",
    "\n"
   ]
  },
  {
   "cell_type": "code",
   "execution_count": null,
   "id": "fd363ec8",
   "metadata": {
    "vscode": {
     "languageId": "swift"
    }
   },
   "outputs": [],
   "source": [
    "var fib = sequence(state: (0, 1)) {\n",
    "    (num: inout (Int, Int)) -> Int? in\n",
    "    let (r, n) = num; num = (n, r + n)\n",
    "    return r\n",
    "}"
   ]
  },
  {
   "cell_type": "markdown",
   "id": "9d793f85",
   "metadata": {},
   "source": [
    "## report-n-import /2025-08-29(金)\n",
    "\n",
    "### Geminiから\n",
    "ネイピア数は、数学定数の一つで、**e** という記号で表されます。その値は **約 2.71828** であり、対数、指数関数、複利の計算など、様々な分野で自然現象を記述するために不可欠な数です。\n",
    "\n",
    "***\n",
    "\n",
    "### ネイピア数の定義\n",
    "\n",
    "ネイピア数にはいくつかの定義がありますが、代表的なものを2つ紹介します。\n",
    "\n",
    "1.  **極限としての定義**\n",
    "\n",
    "    ネイピア数は、以下の極限によって定義されます。\n",
    "    $$\n",
    "    e = \\lim_{n \\to \\infty} \\left(1 + \\frac{1}{n}\\right)^n\n",
    "    $$\n",
    "    この式は、**n** が無限に大きくなるにつれて、$(1 + 1/n)^n$ の値が **e** に近づくことを意味します。この式は、連続的な複利の概念を理解する上で非常に重要です。\n",
    "\n",
    "2.  **無限級数としての定義**\n",
    "\n",
    "    ネイピア数は、以下の無限級数によっても定義されます。\n",
    "    $$\n",
    "    e = \\sum_{k=0}^{\\infty} \\frac{1}{k!} = \\frac{1}{0!} + \\frac{1}{1!} + \\frac{1}{2!} + \\frac{1}{3!} + \\dots\n",
    "    $$\n",
    "    ここで、**k!** は **k** の階乗（例えば $3! = 3 \\times 2 \\times 1 = 6$）を表します。この級数は、計算が非常に速く収束するため、**e** の値を高精度で求める際に用いられます。\n",
    "\n",
    "### ネイピア数と自然対数\n",
    "\n",
    "ネイピア数 **e** を底とする対数を**自然対数**と呼び、$\\log_e x$ または $\\ln x$ と表記されます。自然対数は、微分積分学において多くの関数が単純な形で表されるため、特に重要です。例えば、指数関数 $f(x) = e^x$ は、微分しても形が変わらないというユニークな性質を持っています。\n",
    "\n",
    "### ネイピア数の応用例\n",
    "\n",
    "ネイピア数は、数学だけでなく、物理学、経済学、生物学など、多岐にわたる分野で使われています。\n",
    "\n",
    "* **経済学**: 連続的な複利の計算\n",
    "* **物理学**: 放射性崩壊、物体の冷却、電気回路の充電と放電\n",
    "* **生物学**: 人口増加のモデル\n",
    "* **統計学**: 正規分布（ガウス分布）の計算\n",
    "\n",
    "ネイピア数 **e** は、**円周率 π** や**虚数単位 i** と並んで、数学において最も重要な定数の一つとされています。\n",
    "はい、**虚数単位i**は$\\sqrt{-1}$で正しいです。\n",
    "\n",
    "虚数単位iは、2乗すると-1になる数として定義されます。\n",
    "$$i^2 = -1$$\n",
    "この定義は、実数では解をもたない二次方程式 $x^2 + 1 = 0$ の解として生まれました。\n",
    "\n",
    "***\n",
    "\n",
    "### $\\sqrt{-1}$以外にもあるか？\n",
    "\n",
    "実は、$\\sqrt{-1}$は一つではありません。もう一つ、**$-i$** があります。\n",
    "\n",
    "* $i \\times i = i^2 = -1$\n",
    "* $(-i) \\times (-i) = (-1)^2 \\times i^2 = 1 \\times (-1) = -1$\n",
    "\n",
    "このように、$-i$ も2乗すると$-1$になるため、$-i$も$\\sqrt{-1}$であると言えます。しかし、慣習として、**虚数単位は$i$で表し、$\\sqrt{-1}$の主値（principal value）として$i$を使用します**。\n",
    "\n",
    "$i$ と $-i$ は複素平面上で原点対称な位置にあり、互いに共役複素数（conjugate complex numbers）の関係にあります。 \n",
    "\n",
    "虚数単位の導入によって、複素数（complex number）の世界が生まれ、すべての方程式が解を持つという、数学のより完全な体系が構築されました。"
   ]
  },
  {
   "cell_type": "markdown",
   "id": "8e70abf4",
   "metadata": {},
   "source": [
    "### Geminiから(続き)\n",
    "「共役（きょうやく）」とは、数学において**「ペア（対）」をなす特別な関係**を意味します。特に複素数の文脈では、「共役複素数」という言葉が、実数軸に対して鏡像の関係にある2つの複素数を指します。\n",
    "\n",
    "***\n",
    "\n",
    "### 共役複素数とは\n",
    "\n",
    "**複素数 $z = a + bi$**（$a, b$ は実数、$i$ は虚数単位）が与えられたとき、その**共役複素数**は、**虚数部分の符号を変えたもの**として定義されます。これは$\\bar{z}$（zバー）と書かれます。\n",
    "\n",
    "$$\\text{もし } z = a + bi \\text{ ならば、その共役複素数 } \\bar{z} = a - bi \\text{ です。}$$\n",
    "\n",
    "* **例**: 複素数 $3 + 4i$ の共役複素数は $3 - 4i$ です。\n",
    "* **例**: 複素数 $5i$（$= 0 + 5i$）の共役複素数は $-5i$ です。\n",
    "* **例**: 実数 $7$（$= 7 + 0i$）の共役複素数は、虚数部分が0なので、$7 - 0i = 7$ となり、自分自身になります。\n",
    "\n",
    "### 共役複素数の重要な性質\n",
    "\n",
    "1.  **積と和が実数になる**: 共役複素数と元々の複素数を足したり、掛けたりすると、必ず実数になります。\n",
    "    * **和**: $(a + bi) + (a - bi) = 2a$ （実数）\n",
    "    * **積**: $(a + bi)(a - bi) = a^2 - (bi)^2 = a^2 - b^2i^2 = a^2 - b^2(-1) = a^2 + b^2$ （実数）\n",
    "    この性質は、分母に虚数がある分数を有理化する際に使われます。\n",
    "\n",
    "2.  **幾何学的な意味**: 複素平面上では、共役複素数は実数軸を対称軸として、互いに鏡像の位置にあります。[Image of complex conjugate on complex plane] 例えば、$3 + 4i$ は第1象限に位置し、その共役複素数である $3 - 4i$ は第4象限に位置します。"
   ]
  },
  {
   "cell_type": "markdown",
   "id": "c44c5f2a",
   "metadata": {},
   "source": [
    "![ConplexNumber](image.png)"
   ]
  },
  {
   "cell_type": "markdown",
   "id": "704a70ce",
   "metadata": {},
   "source": [
    "「共役（きょうやく）」とは、数学において**「ペア（対）」をなす特別な関係**を意味します。特に複素数の文脈では、「共役複素数」という言葉が、実数軸に対して鏡像の関係にある2つの複素数を指します。\n",
    "\n",
    "***\n",
    "\n",
    "### 共役複素数とは\n",
    "\n",
    "**複素数 $z = a + bi$**（$a, b$ は実数、$i$ は虚数単位）が与えられたとき、その**共役複素数**は、**虚数部分の符号を変えたもの**として定義されます。これは$\\bar{z}$（zバー）と書かれます。\n",
    "\n",
    "$$\\text{もし } z = a + bi \\text{ ならば、その共役複素数 } \\bar{z} = a - bi \\text{ です。}$$\n",
    "\n",
    "* **例**: 複素数 $3 + 4i$ の共役複素数は $3 - 4i$ です。\n",
    "* **例**: 複素数 $5i$（$= 0 + 5i$）の共役複素数は $-5i$ です。\n",
    "* **例**: 実数 $7$（$= 7 + 0i$）の共役複素数は、虚数部分が0なので、$7 - 0i = 7$ となり、自分自身になります。\n",
    "\n",
    "### 共役複素数の重要な性質\n",
    "\n",
    "1.  **積と和が実数になる**: 共役複素数と元々の複素数を足したり、掛けたりすると、必ず実数になります。\n",
    "    * **和**: $(a + bi) + (a - bi) = 2a$ （実数）\n",
    "    * **積**: $(a + bi)(a - bi) = a^2 - (bi)^2 = a^2 - b^2i^2 = a^2 - b^2(-1) = a^2 + b^2$ （実数）\n",
    "    この性質は、分母に虚数がある分数を有理化する際に使われます。\n",
    "\n",
    "2.  **幾何学的な意味**: 複素平面上では、共役複素数は実数軸を対称軸として、互いに鏡像の位置にあります。[Image of complex conjugate on complex plane] 例えば、$3 + 4i$ は第1象限に位置し、その共役複素数である $3 - 4i$ は第4象限に位置します。"
   ]
  },
  {
   "cell_type": "markdown",
   "id": "47ec97ea",
   "metadata": {},
   "source": [
    "## 完全数と友愛数\n",
    "完全数と友愛数について、それぞれ解説します。\n",
    "\n",
    "### 完全数（Perfect Number）\n",
    "**完全数**とは、その数自身を除く正の約数の総和が、その数自身と等しくなる自然数のことです。\n",
    "\n",
    "例：\n",
    "* **6**: 約数は1, 2, 3, 6です。自身を除く約数の和は、$1 + 2 + 3 = 6$ となり、もとの数と等しいので、6は完全数です。\n",
    "* **28**: 約数は1, 2, 4, 7, 14, 28です。自身を除く約数の和は、$1 + 2 + 4 + 7 + 14 = 28$ となり、もとの数と等しいので、28は完全数です。\n",
    "\n",
    "現在知られている完全数はすべて偶数ですが、奇数の完全数が存在するかどうかは未解決の数学の問題です。\n",
    "\n",
    "***\n",
    "\n",
    "### 友愛数（Amicable Numbers）\n",
    "**友愛数**とは、2つの異なる自然数の組で、**一方の数自身を除く正の約数の総和が、もう一方の数と等しくなる**関係にある数のことです。\n",
    "\n",
    "例：\n",
    "* **(220, 284)**: 友愛数として最もよく知られているペアです。\n",
    "    * **220**の自身を除く約数は、1, 2, 4, 5, 10, 11, 20, 22, 44, 55, 110です。これらの和は、$1 + 2 + 4 + 5 + 10 + 11 + 20 + 22 + 44 + 55 + 110 = 284$ となります。\n",
    "    * **284**の自身を除く約数は、1, 2, 4, 71, 142です。これらの和は、$1 + 2 + 4 + 71 + 142 = 220$ となります。\n",
    "\n",
    "このように、互いに相手の約数の和となっているため、「友愛（友好的な）」という名がついています。\n",
    "\n",
    "---\n",
    "\n",
    "**完全数と友愛数の違い**\n",
    "\n",
    "* **完全数**：**一つの数**で、自身を除く約数の和が**その数自身**と等しい。\n",
    "* **友愛数**：**二つの数**のペアで、一方の約数の和が**もう一方の数**と等しい。"
   ]
  },
  {
   "cell_type": "markdown",
   "id": "020f6f50",
   "metadata": {},
   "source": [
    "主値（principal value）とは、複数の可能性を持つ関数の値の中から、慣習的に一つだけを定めるための特別な値のことです。これは、多価関数（一つの入力に対して複数の出力を返す関数）を一価関数として扱うために使われます。\n",
    "\n",
    "---\n",
    "\n",
    "### 主値の例\n",
    "\n",
    "1.  **平方根（$ \\sqrt{x} $）**\n",
    "    * $\\sqrt{4}$ の値は、通常 $2$ と考えられています。しかし、$ (-2)^2 = 4 $ なので、$-2$ も数学的には答えになり得ます。\n",
    "    * このとき、慣習的に正の解である $2$ を**主値**として定めます。\n",
    "\n",
    "2.  **虚数単位（$ \\sqrt{-1} $）**\n",
    "    * $\\sqrt{-1}$ の値は、虚数単位 $i$ とその負の数 $-i$ の両方があります。\n",
    "    * 慣習として、**主値は $ i $** と定められています。\n",
    "\n",
    "3.  **逆三角関数**\n",
    "    * $\\sin(x)$ の逆関数である $\\arcsin(x)$ を考えます。例えば $\\sin(x) = 1/2$ となる $x$ は、$ \\pi/6 $ だけでなく、$ 5\\pi/6, 13\\pi/6, \\dots $ など無限に存在します。\n",
    "    * この場合、通常 $-\\pi/2 \\le x \\le \\pi/2$ の範囲にある値を**主値**として選びます。つまり、$ \\arcsin(1/2) = \\pi/6 $ となります。\n",
    "\n",
    "---\n",
    "\n",
    "### なぜ主値が必要か？\n",
    "\n",
    "主値は、関数の曖昧さをなくし、計算や議論を単純化するために不可欠です。例えば、方程式を解いたり、コンピューターで数値を計算したりする際に、一つの確定した答えが必要になります。主値を定めることで、こうした場面での混乱を防ぐことができます。\n",
    "\n",
    "**要約すると、主値は「無限にある可能性の中から、最も一般的で、便利で、混乱を招かないように選ばれた、特別な一つ」の解のことです。**"
   ]
  },
  {
   "cell_type": "code",
   "execution_count": null,
   "id": "43487d7b",
   "metadata": {
    "vscode": {
     "languageId": "ini"
    }
   },
   "outputs": [],
   "source": [
    "## フィボナッチ数列について\n",
    "## フィボナッチ数列を返すシークエンス例\n",
    "var fib = sequence(state: (0, 1)) {\n",
    "    (num: inout (Int, Int)) -> Int? in\n",
    "    let (r, n) = num; num = (n, r + n)\n",
    "    return r\n",
    "}\n",
    "## その他のシークエンス応用例\n",
    "// 遅延評価するシークエンス\n",
    "func f(_ n: Int) -> Bool {\n",
    "    print(n, terminator:\" \")\n",
    "    return n & 1 == 0\n",
    "}\n",
    "\n",
    "(0..<8).filter(f).forEach { print(\"[\\($0)]\", terminator:\" \") }\n",
    "print()       // 0 1 2 3 4 5 6 7 [0] [2] [4] [6]\n",
    "\n",
    "(0..<8).lazy.filter(f).forEach { print(\"[\\($0)]\", terminator:\" \") }\n",
    "print()       // 0 [0] 1 2 [2] 3 4 [4] 5 6 [6] 7"
   ]
  },
  {
   "cell_type": "code",
   "execution_count": null,
   "id": "faa7ac22",
   "metadata": {
    "vscode": {
     "languageId": "swift"
    }
   },
   "outputs": [],
   "source": [
    "var fib = sequence(state: (0, 1)) {\n",
    "    (num: inout (Int, Int)) -> Int? in\n",
    "    let (r, n) = num; num = (n, r + n)\n",
    "    return r\n",
    "}"
   ]
  },
  {
   "cell_type": "code",
   "execution_count": null,
   "id": "4300c826",
   "metadata": {
    "vscode": {
     "languageId": "swift"
    }
   },
   "outputs": [],
   "source": [
    "// 遅延評価するシークエンス\n",
    "func f(_ n: Int) -> Bool {\n",
    "    print(n, terminator:\" \")\n",
    "    return n & 1 == 0\n",
    "}\n",
    "\n",
    "(0..<8).filter(f).forEach { print(\"[\\($0)]\", terminator:\" \") }\n",
    "print()       // 0 1 2 3 4 5 6 7 [0] [2] [4] [6]\n",
    "\n",
    "(0..<8).lazy.filter(f).forEach { print(\"[\\($0)]\", terminator:\" \") }\n",
    "print()       // 0 [0] 1 2 [2] 3 4 [4] 5 6 [6] 7"
   ]
  },
  {
   "cell_type": "markdown",
   "id": "4467fc94",
   "metadata": {},
   "source": [
    "# 数値計算、これから使える汎用記号"
   ]
  },
  {
   "cell_type": "code",
   "execution_count": null,
   "id": "bcb1aed6",
   "metadata": {
    "vscode": {
     "languageId": "ini"
    }
   },
   "outputs": [],
   "source": [
    "# 多項式と総和の表現\n",
    "    \n",
    "    y = αn x^n + αn-1 x^(n-1) + ... + α1 x + α0 = Σ (αi x^i)  (i=0 to n)\n",
    "\n",
    "    * αi : 係数\n",
    "    * x : 変数\n",
    "    * n : 多項式の次数\n",
    "    * Σ : 総和記号\n",
    "    * i : 総和の添字\n",
    "    * i=0 to n : 添字iが0からnまで変化することを示す\n",
    "\n",
    "    * 例: 2x^3 + 3x^2 + 4x + 5 = Σ (αi x^i) (i=0 to 3)\n",
    "        - α3 = 2, α2 = 3, α1 = 4, α0 = 5\n",
    "        - n = 3\n",
    "        - x : 変数\n",
    "        - Σ : 総和記号\n",
    "        - i : 総和の添字\n",
    "        - i=0 to 3 : 添字iが0から3まで変化することを示す"
   ]
  },
  {
   "cell_type": "code",
   "execution_count": null,
   "id": "4444a7a4",
   "metadata": {
    "vscode": {
     "languageId": "ini"
    }
   },
   "outputs": [],
   "source": [
    "# 用語・語句\n",
    "\n",
    "    * 多項式 (Polynomial)\n",
    "    * 係数 (Coefficient)\n",
    "    * 変数 (Variable)\n",
    "    * 次数 (Degree)\n",
    "    * 総和記号 (Summation Notation)\n",
    "    * 添字 (Index)\n",
    "    * 総和 (Summation)\n",
    "    * 項 (Term)\n",
    "    * 定数項 (Constant Term)\n",
    "    * 一次式 (Linear Expression)\n",
    "    * 二次式 (Quadratic Expression)\n",
    "    * 三次式 (Cubic Expression)\n",
    "    * 多項式の加減乗除 (Polynomial Addition, Subtraction, Multiplication, Division)\n",
    "    * 多項式の因数分解 (Polynomial Factorization)\n",
    "    * 多項式の展開 (Polynomial Expansion)\n",
    "    * 多項式のグラフ (Polynomial Graph)\n",
    "    * 多項式の根 (Roots of Polynomial)\n",
    "    * 多項式の微分 (Polynomial Differentiation)"
   ]
  },
  {
   "cell_type": "code",
   "execution_count": null,
   "id": "1672c5f4",
   "metadata": {
    "vscode": {
     "languageId": "ini"
    }
   },
   "outputs": [],
   "source": [
    "# 用語・語句2\n",
    "    \n",
    "    * 誤差 (error)\n",
    "        * 絶対誤差 (absolute error) = |測定値 - 真値|\n",
    "        * 相対誤差 (relative error) = |(測定値 - 真値) / 真値|\n",
    "\n",
    "#\n",
    "    * 近似 (approximation)\n",
    "        * 近似値 (approximate value)\n",
    "        * 真値 (true value)\n",
    "        * 有効数字 (significant figures)\n",
    "        * 有理数 (rational number)\n",
    "#        \n",
    "        * 切り捨て (truncation)\n",
    "        * 四捨五入 (rounding)\n",
    "        * 誤差伝播 (error propagation)\n",
    "        * 数値解析 (numerical analysis)\n",
    "        * 数値計算 (numerical computation)\n",
    "        * 数値的安定性 (numerical stability)\n",
    "        * 数値的誤差 (numerical error)\n",
    "        * 数値的手法 (numerical methods)\n",
    "        * 数値的近似 (numerical approximation)\n",
    "        * 数値的解析 (numerical analysis)      \n",
    "\n",
    "#\n",
    "  * 相関 (correlation)\n",
    "      * 自己相関 (auto-correlation)\n",
    "        * 交差相関 (cross-correlation)\n",
    "        * ピアソンの積率相関係数 (Pearson correlation coefficient)\n",
    "        * スピアマンの順位相関係数 (Spearman's rank correlation coefficient)\n",
    "        * ケンドールの順位相関係数 (Kendall's tau coefficient)\n",
    "        * 相関行列 (correlation matrix)\n",
    "        * 相関係数 (correlation coefficient)\n",
    "      * 相互相関 (cross-correlation)\n",
    "\n",
    "  * 共分散 (covariance)\n",
    "\n",
    "  * 回帰 (regression)\n",
    "      * 単回帰 (simple regression)\n",
    "      * 重回帰 (multiple regression)\n",
    "      * 非線形回帰 (non-linear regression)\n",
    "      * ロジスティック回帰 (logistic regression)\n",
    "      * ポアソン回帰 (Poisson regression)\n",
    "      * 回帰分析 (regression analysis)\n",
    "      * 回帰モデル (regression model)\n",
    "      * 回帰係数 (regression coefficient)\n",
    "      * 決定係数 (coefficient of determination, R²)\n",
    "      * 残差 (residuals)\n",
    "      * 最小二乗法 (least squares method)\n",
    "      * 正則化 (regularization)\n",
    "      * リッジ回帰 (ridge regression)\n",
    "      * ラッソ回帰 (lasso regression)\n",
    "      * エラスティックネット回帰 (elastic net regression)\n",
    "      * 多項式回帰 (polynomial regression)\n",
    "      * 時系列回帰 (time series regression)\n",
    "\n",
    "  * 転置 (transpose)    "
   ]
  },
  {
   "cell_type": "code",
   "execution_count": null,
   "id": "31452b45",
   "metadata": {
    "vscode": {
     "languageId": "ini"
    }
   },
   "outputs": [],
   "source": [
    "# 逆関数を用いた乱数生成\n",
    "    F(x)=y  の逆関数 F^(-1)(y)=x を用いて、0から1までの一様乱数uを生成し、x=F^(-1)(u)とすることで、F(x)に従う乱数を生成できる。\n",
    "    例: 指数分布\n",
    "        F(x)=1-e^(-λx)  (x>=0, λ>0)\n",
    "        F^(-1)(y)=-ln(1-y)/λ\n",
    "        0から1までの一様乱数uを生成し、x=-ln(1-u)/λとすることで、指数分布に従う乱数を生成できる。\n",
    "\n",
    "        F(x)=∫[0 to x] λe^(-λt) dt = 1 - e^(-λx)\n",
    "        F^(-1)(y) = -ln(1-y)/λ\n",
    "\n",
    "        F(x)=1-exp(-λx)\n",
    "        F^(-1)(y)=-ln(1-y)/λ\n",
    "        x=F^(-1)(μ)= -(1/λ)ln(1-μ)\n",
    "\n",
    "# --- IGNORE ---\n"
   ]
  }
 ],
 "metadata": {
  "language_info": {
   "name": "python"
  }
 },
 "nbformat": 4,
 "nbformat_minor": 5
}
